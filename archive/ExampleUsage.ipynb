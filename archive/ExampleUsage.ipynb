{
 "cells": [
  {
   "cell_type": "markdown",
   "metadata": {},
   "source": [
    "# Example Usage of Gym-Push\n",
    " - Imports gym-push\n",
    " - Initialises the environment\n",
    " - Creates simple agent to interact with the environment"
   ]
  },
  {
   "cell_type": "markdown",
   "metadata": {},
   "source": [
    "### Import and initialise"
   ]
  },
  {
   "cell_type": "code",
   "execution_count": 4,
   "metadata": {
    "collapsed": true,
    "scrolled": true
   },
   "outputs": [],
   "source": [
    "import gym\n",
    "import gym_push\n",
    "env = gym.make('push-v0')"
   ]
  },
  {
   "cell_type": "markdown",
   "metadata": {},
   "source": [
    "### Training agent:\n",
    " - Set up number of episodes to loop over\n",
    " - Set up empty reward list\n",
    " - Create loop to iterate over episodes\n",
    " - Reset the environment by calling _env.reset()_, which returns the first _state_ and authorised  _action_'s (in said state)\n",
    " - Set up loop so can observe and act in the environment until the end of time (e.g. for _push-v0_ this is 3 days of notifications)\n",
    " - Take an action by calling _env.step(a)_ and passing in chosen _action_. This agent chooses an _action_ at random from the list of authorised actions returned by the environment. The values returned are the next _state_ (s1), the _reward_ (r), the _done_ flag (d) and list of authorised _action_'s for s1. "
   ]
  },
  {
   "cell_type": "code",
   "execution_count": 5,
   "metadata": {},
   "outputs": [
    {
     "name": "stdout",
     "output_type": "stream",
     "text": [
      "-------------- Episode 0 ------------------\n",
      "[-140]\n"
     ]
    }
   ],
   "source": [
    "'''\n",
    "Random baseline agent - Initial performance: ~49.5%\n",
    "- Randomly chooses an action from the list of authorised actions returned by environment\n",
    "- Example final rewards for trials with 5 episodes:\n",
    "        #1 [-260, -205, -170, -275, -165]\n",
    "        #2 [-85, -55, -300, -185, -225]\n",
    "        #3 [-165, -140, -140, -130, -200]\n",
    "'''\n",
    "import random\n",
    "numEpisodes = 1\n",
    "allRewards = []\n",
    "for i in range(numEpisodes):\n",
    "    print('-------------- Episode '+str(i)+' ------------------')\n",
    "    episodeRewards = 0\n",
    "    d = False\n",
    "    s, a = env.reset()\n",
    "    while not d:\n",
    "        s1, r, d, a = env.step( a[random.randint(0, len(a)-1)] )\n",
    "        episodeRewards += r\n",
    "    allRewards.append(episodeRewards)\n",
    "print(allRewards)"
   ]
  },
  {
   "cell_type": "markdown",
   "metadata": {},
   "source": [
    "### Evaluating agent\n",
    "The environment contains 3 lists: _shownList_, _dismissedList_ and _cachedList_. To print the contents of these lists in an easy-to-read format, simply pass the list to the _env.restoreNotification_ function which will return the list in the form of a pandas DataFrame. \n",
    "Examples of determining correct and incorrectly delivered notifications is illustrated below:\n",
    "\n",
    "(Note: as cached notifications are possibly delivered later and in different contexts, the ground truth _action_ vale of these notifications cannot be when evaluating the agent)"
   ]
  },
  {
   "cell_type": "code",
   "execution_count": 6,
   "metadata": {
    "scrolled": true
   },
   "outputs": [
    {
     "name": "stdout",
     "output_type": "stream",
     "text": [
      "Number of shown notifications: 166\n",
      "Number of correctly shown notifications: 64\n",
      "Number of incorrectly shown notifications: 52\n",
      "Number of notifications cached before shown: 50\n"
     ]
    },
    {
     "data": {
      "text/html": [
       "<div>\n",
       "<style>\n",
       "    .dataframe thead tr:only-child th {\n",
       "        text-align: right;\n",
       "    }\n",
       "\n",
       "    .dataframe thead th {\n",
       "        text-align: left;\n",
       "    }\n",
       "\n",
       "    .dataframe tbody tr th {\n",
       "        vertical-align: top;\n",
       "    }\n",
       "</style>\n",
       "<table border=\"1\" class=\"dataframe\">\n",
       "  <thead>\n",
       "    <tr style=\"text-align: right;\">\n",
       "      <th></th>\n",
       "      <th>action</th>\n",
       "      <th>appPackage</th>\n",
       "      <th>category</th>\n",
       "      <th>subject</th>\n",
       "      <th>postedDayOfWeek</th>\n",
       "      <th>postedTimeOfDay</th>\n",
       "      <th>cached</th>\n",
       "      <th>numCaches</th>\n",
       "      <th>action_context</th>\n",
       "    </tr>\n",
       "  </thead>\n",
       "  <tbody>\n",
       "    <tr>\n",
       "      <th>0</th>\n",
       "      <td>True</td>\n",
       "      <td>com.whatsapp</td>\n",
       "      <td>msg</td>\n",
       "      <td>unknown</td>\n",
       "      <td>4</td>\n",
       "      <td>morn</td>\n",
       "      <td>False</td>\n",
       "      <td>0</td>\n",
       "      <td></td>\n",
       "    </tr>\n",
       "    <tr>\n",
       "      <th>1</th>\n",
       "      <td>True</td>\n",
       "      <td>com.google.android.googlequicksearchbox</td>\n",
       "      <td>unknown</td>\n",
       "      <td>unknown</td>\n",
       "      <td>4</td>\n",
       "      <td>morn</td>\n",
       "      <td>False</td>\n",
       "      <td>0</td>\n",
       "      <td></td>\n",
       "    </tr>\n",
       "    <tr>\n",
       "      <th>2</th>\n",
       "      <td>False</td>\n",
       "      <td>com.google.android.apps.maps</td>\n",
       "      <td>msg</td>\n",
       "      <td>unknown</td>\n",
       "      <td>4</td>\n",
       "      <td>morn</td>\n",
       "      <td>True</td>\n",
       "      <td>1</td>\n",
       "      <td>[\"morn\", \"4\"]</td>\n",
       "    </tr>\n",
       "    <tr>\n",
       "      <th>3</th>\n",
       "      <td>False</td>\n",
       "      <td>com.android.providers.downloads</td>\n",
       "      <td>msg</td>\n",
       "      <td>unknown</td>\n",
       "      <td>4</td>\n",
       "      <td>morn</td>\n",
       "      <td>False</td>\n",
       "      <td>0</td>\n",
       "      <td></td>\n",
       "    </tr>\n",
       "    <tr>\n",
       "      <th>4</th>\n",
       "      <td>True</td>\n",
       "      <td>com.whatsapp</td>\n",
       "      <td>msg</td>\n",
       "      <td>unknown</td>\n",
       "      <td>4</td>\n",
       "      <td>morn</td>\n",
       "      <td>True</td>\n",
       "      <td>1</td>\n",
       "      <td>[\"morn\", \"4\"]</td>\n",
       "    </tr>\n",
       "  </tbody>\n",
       "</table>\n",
       "</div>"
      ],
      "text/plain": [
       "   action                               appPackage category  subject  \\\n",
       "0    True                             com.whatsapp      msg  unknown   \n",
       "1    True  com.google.android.googlequicksearchbox  unknown  unknown   \n",
       "2   False             com.google.android.apps.maps      msg  unknown   \n",
       "3   False          com.android.providers.downloads      msg  unknown   \n",
       "4    True                             com.whatsapp      msg  unknown   \n",
       "\n",
       "   postedDayOfWeek postedTimeOfDay  cached  numCaches action_context  \n",
       "0                4            morn   False          0                 \n",
       "1                4            morn   False          0                 \n",
       "2                4            morn    True          1  [\"morn\", \"4\"]  \n",
       "3                4            morn   False          0                 \n",
       "4                4            morn    True          1  [\"morn\", \"4\"]  "
      ]
     },
     "execution_count": 6,
     "metadata": {},
     "output_type": "execute_result"
    }
   ],
   "source": [
    "# All notifications with action 'True' and cached False in shown list are correct\n",
    "# All notifications with action 'False' and cached False in shown list are incorrect\n",
    "# All notifications with cached True have no ground truth to evaluate performance..\n",
    "# as context in which they are acted upon changes - can be examined to understand algorithm.\n",
    "\n",
    "s = env.restoreNotification(env.shownList)\n",
    "print('Number of shown notifications: '+str(len(s)))\n",
    "print('Number of correctly shown notifications: '+str(len(s[(s.action == True) & (s.cached == False)])))\n",
    "print('Number of incorrectly shown notifications: '+str(len(s[(s.action == False) & (s.cached == False)])))\n",
    "print('Number of notifications cached before shown: '+str(len(s[s.cached==True])))\n",
    "s[['action', 'appPackage', 'category', 'subject',\n",
    "        'postedDayOfWeek', 'postedTimeOfDay', 'cached', 'numCaches',\n",
    "       'action_context']].head()\n"
   ]
  },
  {
   "cell_type": "code",
   "execution_count": 7,
   "metadata": {},
   "outputs": [
    {
     "name": "stdout",
     "output_type": "stream",
     "text": [
      "Number of dismissed notifications: 158\n",
      "Number of correctly dismissed notifications: 46\n",
      "Number of incorrectly dismissed notifications: 55\n",
      "Number of notifications cached before dismissed: 57\n"
     ]
    },
    {
     "data": {
      "text/html": [
       "<div>\n",
       "<style>\n",
       "    .dataframe thead tr:only-child th {\n",
       "        text-align: right;\n",
       "    }\n",
       "\n",
       "    .dataframe thead th {\n",
       "        text-align: left;\n",
       "    }\n",
       "\n",
       "    .dataframe tbody tr th {\n",
       "        vertical-align: top;\n",
       "    }\n",
       "</style>\n",
       "<table border=\"1\" class=\"dataframe\">\n",
       "  <thead>\n",
       "    <tr style=\"text-align: right;\">\n",
       "      <th></th>\n",
       "      <th>action</th>\n",
       "      <th>appPackage</th>\n",
       "      <th>category</th>\n",
       "      <th>subject</th>\n",
       "      <th>postedDayOfWeek</th>\n",
       "      <th>postedTimeOfDay</th>\n",
       "      <th>cached</th>\n",
       "      <th>numCaches</th>\n",
       "      <th>action_context</th>\n",
       "    </tr>\n",
       "  </thead>\n",
       "  <tbody>\n",
       "    <tr>\n",
       "      <th>0</th>\n",
       "      <td>False</td>\n",
       "      <td>io.wia.wia</td>\n",
       "      <td>unknown</td>\n",
       "      <td>unknown</td>\n",
       "      <td>4</td>\n",
       "      <td>morn</td>\n",
       "      <td>False</td>\n",
       "      <td>0</td>\n",
       "      <td></td>\n",
       "    </tr>\n",
       "    <tr>\n",
       "      <th>1</th>\n",
       "      <td>True</td>\n",
       "      <td>com.whatsapp</td>\n",
       "      <td>unknown</td>\n",
       "      <td>unknown</td>\n",
       "      <td>4</td>\n",
       "      <td>morn</td>\n",
       "      <td>False</td>\n",
       "      <td>0</td>\n",
       "      <td></td>\n",
       "    </tr>\n",
       "    <tr>\n",
       "      <th>2</th>\n",
       "      <td>True</td>\n",
       "      <td>com.whatsapp</td>\n",
       "      <td>msg</td>\n",
       "      <td>unknown</td>\n",
       "      <td>4</td>\n",
       "      <td>morn</td>\n",
       "      <td>False</td>\n",
       "      <td>0</td>\n",
       "      <td></td>\n",
       "    </tr>\n",
       "    <tr>\n",
       "      <th>3</th>\n",
       "      <td>True</td>\n",
       "      <td>com.whatsapp</td>\n",
       "      <td>unknown</td>\n",
       "      <td>unknown</td>\n",
       "      <td>4</td>\n",
       "      <td>morn</td>\n",
       "      <td>True</td>\n",
       "      <td>1</td>\n",
       "      <td>[\"morn\", \"4\"]</td>\n",
       "    </tr>\n",
       "    <tr>\n",
       "      <th>4</th>\n",
       "      <td>True</td>\n",
       "      <td>com.whatsapp</td>\n",
       "      <td>unknown</td>\n",
       "      <td>unknown</td>\n",
       "      <td>4</td>\n",
       "      <td>morn</td>\n",
       "      <td>True</td>\n",
       "      <td>3</td>\n",
       "      <td>[\"morn\", \"4\"]</td>\n",
       "    </tr>\n",
       "  </tbody>\n",
       "</table>\n",
       "</div>"
      ],
      "text/plain": [
       "   action    appPackage category  subject  postedDayOfWeek postedTimeOfDay  \\\n",
       "0   False    io.wia.wia  unknown  unknown                4            morn   \n",
       "1    True  com.whatsapp  unknown  unknown                4            morn   \n",
       "2    True  com.whatsapp      msg  unknown                4            morn   \n",
       "3    True  com.whatsapp  unknown  unknown                4            morn   \n",
       "4    True  com.whatsapp  unknown  unknown                4            morn   \n",
       "\n",
       "   cached  numCaches action_context  \n",
       "0   False          0                 \n",
       "1   False          0                 \n",
       "2   False          0                 \n",
       "3    True          1  [\"morn\", \"4\"]  \n",
       "4    True          3  [\"morn\", \"4\"]  "
      ]
     },
     "execution_count": 7,
     "metadata": {},
     "output_type": "execute_result"
    }
   ],
   "source": [
    "d = env.restoreNotification(env.dismissedList)\n",
    "print('Number of dismissed notifications: '+str(len(d)))\n",
    "print('Number of correctly dismissed notifications: '+str(len(d[(d.action == False) & (d.cached == False)])))\n",
    "print('Number of incorrectly dismissed notifications: '+str(len(d[(d.action == True) & (d.cached == False)])))\n",
    "print('Number of notifications cached before dismissed: '+str(len(d[d.cached==True])))\n",
    "d[['action', 'appPackage', 'category', 'subject',\n",
    "        'postedDayOfWeek', 'postedTimeOfDay', 'cached', 'numCaches',\n",
    "       'action_context']].head()"
   ]
  },
  {
   "cell_type": "code",
   "execution_count": 8,
   "metadata": {},
   "outputs": [
    {
     "name": "stdout",
     "output_type": "stream",
     "text": [
      "Number of notifications left in cache at end: 0\n"
     ]
    },
    {
     "data": {
      "text/html": [
       "<div>\n",
       "<style>\n",
       "    .dataframe thead tr:only-child th {\n",
       "        text-align: right;\n",
       "    }\n",
       "\n",
       "    .dataframe thead th {\n",
       "        text-align: left;\n",
       "    }\n",
       "\n",
       "    .dataframe tbody tr th {\n",
       "        vertical-align: top;\n",
       "    }\n",
       "</style>\n",
       "<table border=\"1\" class=\"dataframe\">\n",
       "  <thead>\n",
       "    <tr style=\"text-align: right;\">\n",
       "      <th></th>\n",
       "      <th>action</th>\n",
       "      <th>appPackage</th>\n",
       "      <th>category</th>\n",
       "      <th>subject</th>\n",
       "      <th>postedDayOfWeek</th>\n",
       "      <th>postedTimeOfDay</th>\n",
       "      <th>cached</th>\n",
       "      <th>numCaches</th>\n",
       "      <th>action_context</th>\n",
       "    </tr>\n",
       "  </thead>\n",
       "  <tbody>\n",
       "  </tbody>\n",
       "</table>\n",
       "</div>"
      ],
      "text/plain": [
       "Empty DataFrame\n",
       "Columns: [action, appPackage, category, subject, postedDayOfWeek, postedTimeOfDay, cached, numCaches, action_context]\n",
       "Index: []"
      ]
     },
     "execution_count": 8,
     "metadata": {},
     "output_type": "execute_result"
    }
   ],
   "source": [
    "c = env.restoreNotification(env.cachedList)\n",
    "print('Number of notifications left in cache at end: '+str(len(c)))\n",
    "c[['action', 'appPackage', 'category', 'subject',\n",
    "        'postedDayOfWeek', 'postedTimeOfDay', 'cached', 'numCaches',\n",
    "       'action_context']].head()"
   ]
  }
 ],
 "metadata": {
  "kernelspec": {
   "display_name": "Python 3",
   "language": "python",
   "name": "python3"
  },
  "language_info": {
   "codemirror_mode": {
    "name": "ipython",
    "version": 3
   },
   "file_extension": ".py",
   "mimetype": "text/x-python",
   "name": "python",
   "nbconvert_exporter": "python",
   "pygments_lexer": "ipython3",
   "version": "3.5.3"
  }
 },
 "nbformat": 4,
 "nbformat_minor": 2
}
