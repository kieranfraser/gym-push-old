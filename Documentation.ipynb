{
 "cells": [
  {
   "cell_type": "markdown",
   "metadata": {},
   "source": [
    "# Documentation\n",
    "#### Last updated: 09 Feb 2019\n",
    "---\n",
    "Contents:\n",
    "1. About gym-push\n",
    "2. Environment Structure\n",
    "3. Functions\n",
    "---\n",
    "\n",
    "## 1. About\n",
    "Gym-push is an [OpenAI Gym](https://gym.openai.com/) environment for benchmarking Reinforcement Learning algorithms on the problem of managing push-notifications on behalf of a user.\n",
    "\n",
    "... more to come on the motivation, problem, approached taken to date ...\n",
    "\n",
    "## 2. Environment Structure\n",
    "The definition of concepts is as follows:\n",
    " - _State_ - A state of the environment can be thought of as a moment in the user's life. At each moment, a user's state will contain:\n",
    "   + **Context** - Such as the day of the week, time of day, location, current activity and so on. The user will always have a context so this field will never be empty. \n",
    "   + **Notification** - This could be empty, to signify no notification has arrived to the user in this moment or it could contain the features of the notification that has just arrived to the user, such as the app posting the notification, the subject, the sender's relationship and so on. \n",
    "   + **Cached List** - This is a list containing all the notifications currently cached (not shown to the user, but not dismissed either!). Depending on the environment, this list can be expressed based on all notifications within the list, or it can be expressed simply by its length.\n",
    "   + **Shown List** - This is a list containig all the notifications that have been shown to the user. Again, depending on the environment, this list can be expressed based on all notifications within the list, or it can be expressed simply by its length.\n",
    "   + **Dismissed List** - This is a list containig all the notifications that have been removed and **not** shown to the user. Again, depending on the environment, this list can be expressed based on all notifications within the list, or it can be expressed simply by its length.\n",
    "   \n",
    "    \n",
    " - _Action_ - This refers to the decision taken by the user (or agent) in each given moment (_state_). The possible actions are:\n",
    "   + **Show** - The notification is shown to the user. This results in the notification being added to the shown list (thus incrementing its length).\n",
    "   + **Dismiss** - The notification is **not** shown to the user. This results in the notification being added to the dismissed list (thus incrementing its length).\n",
    "   + **Cache** - The notification is **not** shown to the user. However, this notification is added to the cached list (thus incrementing its length) which is analysed at varying intervals and could result in the notification being shown or fully dismissed in the future.\n",
    "   + **Check-Cache** - The oldest notification is popped from the cached list (thus decrementing the cached list) and it is added to the _Notification_ feature of the state (bullet #2 above) **but** as if it arrived in the current context (bullet #1 above).\n",
    "   + **Standby** - The environment jumps ahead to the next _moment_ a notification was pushed to the user, thus simulating an agent going to sleep until awoken by an incoming notification."
   ]
  },
  {
   "cell_type": "markdown",
   "metadata": {},
   "source": [
    "<div class=\"alert alert-block alert-warning\">\n",
    "<b>Note: </b> Not every state will contain a full set of actions. For example, when there is no notification in a given moment, the <i>show, dismiss</i> and <i>cache</i> actions will not be authorised, as there is nothing to act upon. However, <i>check-cache</i> and <i>standby</i> may be available. The list of authorised actions will be available at each step.\n",
    "</div>"
   ]
  },
  {
   "cell_type": "markdown",
   "metadata": {},
   "source": [
    " - _Reward_ - This is returned after each _step_ (action is taken). There are two types of reward defined:\n",
    "     + **Immediate** - The reward for taking a common sense action. For example, if there is no observable notification in a given moment but the cache is not empty, a reward is given for choosing to check the cache instead of simply going into standby mode. This ensures that notifications in the cache are considered during different contexts. This reward can be calculated immediately as it requires simple observation of the current _state_. \n",
    "     + **Delayed** - The reward for taking the correct action with regard a notification's delivery or dismissal. This reward is derived from the user's engagement with a notification once an action has been taken on it. For example, if a notification is shown to the user, and the user subsequently opens it, a positive reward is returned. However, if the notification was subsequently dismissed, a negative reward is returned, as the notification should have been dismissed or possible cached. This reward can only be calculated after the user has engaged with the notification, hence it there is a delay between the action taken and the reward returned.\n",
    "     "
   ]
  },
  {
   "cell_type": "markdown",
   "metadata": {},
   "source": [
    "## 3. Functions\n",
    "The following is a description of the functions of the gym-push environment. (Note: the structure of the environment is based on the OpenAI gym standard, see [here](https://gym.openai.com/docs/#environments) for more details)\n",
    "\n",
    "- **reset()** - this function resets the environment to its initial state and settings (e.g. resets to first _state_ (s), all lists are cleared etc.). _Returns_ the first _state_ (s) and a list of authorised _action_'s for the state.\n",
    "- **step(a)** - this function takes an _action_ as an input parameter and subsequently executes that action in the current _state_. _Returns_ the next _state_ (s1), a _reward_ (r), the _done_ flag (d) which identifies whether the environment has reached its final state and, finally, a list of authorised _action_'s for the returned _state_ (\n"
   ]
  },
  {
   "cell_type": "code",
   "execution_count": null,
   "metadata": {
    "collapsed": true
   },
   "outputs": [],
   "source": []
  }
 ],
 "metadata": {
  "kernelspec": {
   "display_name": "Python 3",
   "language": "python",
   "name": "python3"
  },
  "language_info": {
   "codemirror_mode": {
    "name": "ipython",
    "version": 3
   },
   "file_extension": ".py",
   "mimetype": "text/x-python",
   "name": "python",
   "nbconvert_exporter": "python",
   "pygments_lexer": "ipython3",
   "version": "3.5.3"
  }
 },
 "nbformat": 4,
 "nbformat_minor": 2
}
